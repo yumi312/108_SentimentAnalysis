{
 "cells": [
  {
   "cell_type": "code",
   "execution_count": 2,
   "metadata": {},
   "outputs": [],
   "source": [
    "\n",
    "\n",
    "def merge(file1, file2, returnFile):\n",
    "    ret = open(returnFile, \"a+\", encoding = \"utf-8\")\n",
    "    with open(file1, \"a+\", encoding=\"utf-8\") as f1:\n",
    "        ret.write(\"\\n\")\n",
    "        for i in f1:\n",
    "            ret.write(i)\n",
    "    with open(file2, \"a+\", encoding=\"utf-8\") as f2:\n",
    "        ret.write(\"\\n\")\n",
    "        for i in f2:\n",
    "            ret.write(i)\n",
    "\n",
    "merge(\"w2vTrainData(wiki).txt\", \"w2vTrainData(ans).txt\", \"combineTxt.txt\")"
   ]
  },
  {
   "cell_type": "code",
   "execution_count": null,
   "metadata": {},
   "outputs": [],
   "source": []
  }
 ],
 "metadata": {
  "kernelspec": {
   "display_name": "Python 3.8.8 64-bit",
   "language": "python",
   "name": "python3"
  },
  "language_info": {
   "codemirror_mode": {
    "name": "ipython",
    "version": 3
   },
   "file_extension": ".py",
   "mimetype": "text/x-python",
   "name": "python",
   "nbconvert_exporter": "python",
   "pygments_lexer": "ipython3",
   "version": "3.8.8"
  },
  "orig_nbformat": 4,
  "vscode": {
   "interpreter": {
    "hash": "9650cb4e16cdd4a8e8e2d128bf38d875813998db22a3c986335f89e0cb4d7bb2"
   }
  }
 },
 "nbformat": 4,
 "nbformat_minor": 2
}
